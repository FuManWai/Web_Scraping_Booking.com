{
  "nbformat": 4,
  "nbformat_minor": 0,
  "metadata": {
    "colab": {
      "provenance": [],
      "authorship_tag": "ABX9TyN9QXiNf6X+cllpbxCOWltY",
      "include_colab_link": true
    },
    "kernelspec": {
      "name": "python3",
      "display_name": "Python 3"
    },
    "language_info": {
      "name": "python"
    }
  },
  "cells": [
    {
      "cell_type": "markdown",
      "metadata": {
        "id": "view-in-github",
        "colab_type": "text"
      },
      "source": [
        "<a href=\"https://colab.research.google.com/github/FuManWai/Web_Scraping_Booking.com/blob/main/Web_Scraping.ipynb\" target=\"_parent\"><img src=\"https://colab.research.google.com/assets/colab-badge.svg\" alt=\"Open In Colab\"/></a>"
      ]
    },
    {
      "cell_type": "markdown",
      "source": [
        "Importing libraries"
      ],
      "metadata": {
        "id": "uqr7pgg44IwF"
      }
    },
    {
      "cell_type": "code",
      "source": [
        "import matplotlib.pyplot as plt\n",
        "import numpy as np\n",
        "import pandas as pd\n",
        "import requests\n",
        "from bs4 import BeautifulSoup"
      ],
      "metadata": {
        "id": "5838UUIaIf-d"
      },
      "execution_count": 274,
      "outputs": []
    },
    {
      "cell_type": "markdown",
      "source": [
        "Scraping hotel data from Booking.com."
      ],
      "metadata": {
        "id": "Xp1VgfsQ4UyU"
      }
    },
    {
      "cell_type": "code",
      "execution_count": 275,
      "metadata": {
        "id": "5JB9MKpGR2MV"
      },
      "outputs": [],
      "source": [
        "hotels_data = []\n",
        "for i in range(0, 200, 25):\n",
        "\n",
        "  # Make the HTTP request\n",
        "  url = f'https://www.booking.com/searchresults.en-gb.html?label=gen173nr-1BCAEoggI46AdIM1gEaCeIAQGYAQm4AQfIAQzYAQHoAQGIAgGoAgO4ApqehaoGwAIB0gIkZjhlNTRjOGQtNzc5YS00M2Q0LWEzYWQtNGZlNDIyNGRlOGYz2AIF4AIB&sid=6404e3f02159587f4ed1219ddbc14046&aid=304142&ss=Toronto&ssne=Toronto&ssne_untouched=Toronto&efdco=1&lang=en-gb&sb=1&src_elem=sb&src=searchresults&dest_id=-574890&dest_type=city&checkin=2023-11-11&checkout=2023-11-12&group_adults=1&no_rooms=1&group_children=0&offset={i}'\n",
        "  headers = {'User-Agent': 'Mozilla/5.0 (Macintosh; Intel Mac OS X 10_15_7) AppleWebKit/537.36 (KHTML, like Gecko) Chrome/118.0.0.0 Safari/537.36'}\n",
        "  response  = requests.get(url, headers=headers)\n",
        "\n",
        "  # Parse the HTML content with Beautiful Soup\n",
        "  soup = BeautifulSoup(response.content, 'html.parser')\n",
        "\n",
        "  # Find all the hotel elements in the HTML document\n",
        "  hotels = soup.find_all('div', {'data-testid': 'property-card'})\n",
        "\n",
        "  for hotel in hotels:\n",
        "      # Extract the hotel name\n",
        "      name_element = hotel.find('div', {'data-testid': 'title'})\n",
        "      name = name_element.text.strip()\n",
        "\n",
        "      # Extract the hotel location\n",
        "      location_element = hotel.find('span', {'data-testid': 'address'})\n",
        "      location = location_element.text.strip()\n",
        "\n",
        "      # Extract the hotel price\n",
        "      price_element = hotel.find('span', {'data-testid': 'price-and-discounted-price'})\n",
        "      price = price_element.text.strip()\n",
        "\n",
        "      # Extract the hotel rating\n",
        "      rating_element = hotel.find('div', {'class': 'a3b8729ab1 d86cee9b25'})\n",
        "\n",
        "      if rating_element is not None:\n",
        "        rating = rating_element.text.strip()\n",
        "      else:\n",
        "        rating = \"No Rating\"\n",
        "\n",
        "      # Extract the hotel review\n",
        "      review_element = hotel.find('div', {'class': 'abf093bdfe f45d8e4c32 d935416c47'})\n",
        "\n",
        "      if review_element is not None:\n",
        "        review = review_element.text.strip()\n",
        "      else:\n",
        "        review = \"No Review\"\n",
        "\n",
        "      # Append hotes_data with info about hotel\n",
        "      hotels_data.append({\n",
        "        'Name': name,\n",
        "        'Location': location,\n",
        "        'Price': price,\n",
        "        'Rating': rating,\n",
        "        'Review': review\n",
        "      })"
      ]
    },
    {
      "cell_type": "markdown",
      "source": [
        "Converts data into a Pandas DataFrame and saves it to a CSV file."
      ],
      "metadata": {
        "id": "4KTVm8QE4oGC"
      }
    },
    {
      "cell_type": "code",
      "source": [
        "hotels = pd.DataFrame(hotels_data)\n",
        "hotels.head()"
      ],
      "metadata": {
        "colab": {
          "base_uri": "https://localhost:8080/",
          "height": 206
        },
        "id": "pSTM5KtJXczX",
        "outputId": "fe9c0f49-6e8a-4e74-d1d7-10e21a9ce7c7"
      },
      "execution_count": 276,
      "outputs": [
        {
          "output_type": "execute_result",
          "data": {
            "text/plain": [
              "                                    Name                     Location   Price  \\\n",
              "0                        Samesun Toronto    Downtown Toronto, Toronto   US$66   \n",
              "1                  Chelsea Hotel Toronto    Downtown Toronto, Toronto  US$135   \n",
              "2                      The Clarence Park    Downtown Toronto, Toronto   US$40   \n",
              "3  DoubleTree by Hilton Toronto Downtown    Downtown Toronto, Toronto  US$182   \n",
              "4      One King West Hotel and Residence  Financial District, Toronto  US$199   \n",
              "\n",
              "  Rating          Review  \n",
              "0    7.4   2,121 reviews  \n",
              "1    7.1   6,417 reviews  \n",
              "2    7.7   3,541 reviews  \n",
              "3    7.6   5,162 reviews  \n",
              "4    8.4  11,058 reviews  "
            ],
            "text/html": [
              "\n",
              "  <div id=\"df-e5588ac3-b7d4-4df4-90dd-f39fdd83f778\" class=\"colab-df-container\">\n",
              "    <div>\n",
              "<style scoped>\n",
              "    .dataframe tbody tr th:only-of-type {\n",
              "        vertical-align: middle;\n",
              "    }\n",
              "\n",
              "    .dataframe tbody tr th {\n",
              "        vertical-align: top;\n",
              "    }\n",
              "\n",
              "    .dataframe thead th {\n",
              "        text-align: right;\n",
              "    }\n",
              "</style>\n",
              "<table border=\"1\" class=\"dataframe\">\n",
              "  <thead>\n",
              "    <tr style=\"text-align: right;\">\n",
              "      <th></th>\n",
              "      <th>Name</th>\n",
              "      <th>Location</th>\n",
              "      <th>Price</th>\n",
              "      <th>Rating</th>\n",
              "      <th>Review</th>\n",
              "    </tr>\n",
              "  </thead>\n",
              "  <tbody>\n",
              "    <tr>\n",
              "      <th>0</th>\n",
              "      <td>Samesun Toronto</td>\n",
              "      <td>Downtown Toronto, Toronto</td>\n",
              "      <td>US$66</td>\n",
              "      <td>7.4</td>\n",
              "      <td>2,121 reviews</td>\n",
              "    </tr>\n",
              "    <tr>\n",
              "      <th>1</th>\n",
              "      <td>Chelsea Hotel Toronto</td>\n",
              "      <td>Downtown Toronto, Toronto</td>\n",
              "      <td>US$135</td>\n",
              "      <td>7.1</td>\n",
              "      <td>6,417 reviews</td>\n",
              "    </tr>\n",
              "    <tr>\n",
              "      <th>2</th>\n",
              "      <td>The Clarence Park</td>\n",
              "      <td>Downtown Toronto, Toronto</td>\n",
              "      <td>US$40</td>\n",
              "      <td>7.7</td>\n",
              "      <td>3,541 reviews</td>\n",
              "    </tr>\n",
              "    <tr>\n",
              "      <th>3</th>\n",
              "      <td>DoubleTree by Hilton Toronto Downtown</td>\n",
              "      <td>Downtown Toronto, Toronto</td>\n",
              "      <td>US$182</td>\n",
              "      <td>7.6</td>\n",
              "      <td>5,162 reviews</td>\n",
              "    </tr>\n",
              "    <tr>\n",
              "      <th>4</th>\n",
              "      <td>One King West Hotel and Residence</td>\n",
              "      <td>Financial District, Toronto</td>\n",
              "      <td>US$199</td>\n",
              "      <td>8.4</td>\n",
              "      <td>11,058 reviews</td>\n",
              "    </tr>\n",
              "  </tbody>\n",
              "</table>\n",
              "</div>\n",
              "    <div class=\"colab-df-buttons\">\n",
              "\n",
              "  <div class=\"colab-df-container\">\n",
              "    <button class=\"colab-df-convert\" onclick=\"convertToInteractive('df-e5588ac3-b7d4-4df4-90dd-f39fdd83f778')\"\n",
              "            title=\"Convert this dataframe to an interactive table.\"\n",
              "            style=\"display:none;\">\n",
              "\n",
              "  <svg xmlns=\"http://www.w3.org/2000/svg\" height=\"24px\" viewBox=\"0 -960 960 960\">\n",
              "    <path d=\"M120-120v-720h720v720H120Zm60-500h600v-160H180v160Zm220 220h160v-160H400v160Zm0 220h160v-160H400v160ZM180-400h160v-160H180v160Zm440 0h160v-160H620v160ZM180-180h160v-160H180v160Zm440 0h160v-160H620v160Z\"/>\n",
              "  </svg>\n",
              "    </button>\n",
              "\n",
              "  <style>\n",
              "    .colab-df-container {\n",
              "      display:flex;\n",
              "      gap: 12px;\n",
              "    }\n",
              "\n",
              "    .colab-df-convert {\n",
              "      background-color: #E8F0FE;\n",
              "      border: none;\n",
              "      border-radius: 50%;\n",
              "      cursor: pointer;\n",
              "      display: none;\n",
              "      fill: #1967D2;\n",
              "      height: 32px;\n",
              "      padding: 0 0 0 0;\n",
              "      width: 32px;\n",
              "    }\n",
              "\n",
              "    .colab-df-convert:hover {\n",
              "      background-color: #E2EBFA;\n",
              "      box-shadow: 0px 1px 2px rgba(60, 64, 67, 0.3), 0px 1px 3px 1px rgba(60, 64, 67, 0.15);\n",
              "      fill: #174EA6;\n",
              "    }\n",
              "\n",
              "    .colab-df-buttons div {\n",
              "      margin-bottom: 4px;\n",
              "    }\n",
              "\n",
              "    [theme=dark] .colab-df-convert {\n",
              "      background-color: #3B4455;\n",
              "      fill: #D2E3FC;\n",
              "    }\n",
              "\n",
              "    [theme=dark] .colab-df-convert:hover {\n",
              "      background-color: #434B5C;\n",
              "      box-shadow: 0px 1px 3px 1px rgba(0, 0, 0, 0.15);\n",
              "      filter: drop-shadow(0px 1px 2px rgba(0, 0, 0, 0.3));\n",
              "      fill: #FFFFFF;\n",
              "    }\n",
              "  </style>\n",
              "\n",
              "    <script>\n",
              "      const buttonEl =\n",
              "        document.querySelector('#df-e5588ac3-b7d4-4df4-90dd-f39fdd83f778 button.colab-df-convert');\n",
              "      buttonEl.style.display =\n",
              "        google.colab.kernel.accessAllowed ? 'block' : 'none';\n",
              "\n",
              "      async function convertToInteractive(key) {\n",
              "        const element = document.querySelector('#df-e5588ac3-b7d4-4df4-90dd-f39fdd83f778');\n",
              "        const dataTable =\n",
              "          await google.colab.kernel.invokeFunction('convertToInteractive',\n",
              "                                                    [key], {});\n",
              "        if (!dataTable) return;\n",
              "\n",
              "        const docLinkHtml = 'Like what you see? Visit the ' +\n",
              "          '<a target=\"_blank\" href=https://colab.research.google.com/notebooks/data_table.ipynb>data table notebook</a>'\n",
              "          + ' to learn more about interactive tables.';\n",
              "        element.innerHTML = '';\n",
              "        dataTable['output_type'] = 'display_data';\n",
              "        await google.colab.output.renderOutput(dataTable, element);\n",
              "        const docLink = document.createElement('div');\n",
              "        docLink.innerHTML = docLinkHtml;\n",
              "        element.appendChild(docLink);\n",
              "      }\n",
              "    </script>\n",
              "  </div>\n",
              "\n",
              "\n",
              "<div id=\"df-a294e783-c68f-465d-af40-aa08cd4fde7f\">\n",
              "  <button class=\"colab-df-quickchart\" onclick=\"quickchart('df-a294e783-c68f-465d-af40-aa08cd4fde7f')\"\n",
              "            title=\"Suggest charts.\"\n",
              "            style=\"display:none;\">\n",
              "\n",
              "<svg xmlns=\"http://www.w3.org/2000/svg\" height=\"24px\"viewBox=\"0 0 24 24\"\n",
              "     width=\"24px\">\n",
              "    <g>\n",
              "        <path d=\"M19 3H5c-1.1 0-2 .9-2 2v14c0 1.1.9 2 2 2h14c1.1 0 2-.9 2-2V5c0-1.1-.9-2-2-2zM9 17H7v-7h2v7zm4 0h-2V7h2v10zm4 0h-2v-4h2v4z\"/>\n",
              "    </g>\n",
              "</svg>\n",
              "  </button>\n",
              "\n",
              "<style>\n",
              "  .colab-df-quickchart {\n",
              "      --bg-color: #E8F0FE;\n",
              "      --fill-color: #1967D2;\n",
              "      --hover-bg-color: #E2EBFA;\n",
              "      --hover-fill-color: #174EA6;\n",
              "      --disabled-fill-color: #AAA;\n",
              "      --disabled-bg-color: #DDD;\n",
              "  }\n",
              "\n",
              "  [theme=dark] .colab-df-quickchart {\n",
              "      --bg-color: #3B4455;\n",
              "      --fill-color: #D2E3FC;\n",
              "      --hover-bg-color: #434B5C;\n",
              "      --hover-fill-color: #FFFFFF;\n",
              "      --disabled-bg-color: #3B4455;\n",
              "      --disabled-fill-color: #666;\n",
              "  }\n",
              "\n",
              "  .colab-df-quickchart {\n",
              "    background-color: var(--bg-color);\n",
              "    border: none;\n",
              "    border-radius: 50%;\n",
              "    cursor: pointer;\n",
              "    display: none;\n",
              "    fill: var(--fill-color);\n",
              "    height: 32px;\n",
              "    padding: 0;\n",
              "    width: 32px;\n",
              "  }\n",
              "\n",
              "  .colab-df-quickchart:hover {\n",
              "    background-color: var(--hover-bg-color);\n",
              "    box-shadow: 0 1px 2px rgba(60, 64, 67, 0.3), 0 1px 3px 1px rgba(60, 64, 67, 0.15);\n",
              "    fill: var(--button-hover-fill-color);\n",
              "  }\n",
              "\n",
              "  .colab-df-quickchart-complete:disabled,\n",
              "  .colab-df-quickchart-complete:disabled:hover {\n",
              "    background-color: var(--disabled-bg-color);\n",
              "    fill: var(--disabled-fill-color);\n",
              "    box-shadow: none;\n",
              "  }\n",
              "\n",
              "  .colab-df-spinner {\n",
              "    border: 2px solid var(--fill-color);\n",
              "    border-color: transparent;\n",
              "    border-bottom-color: var(--fill-color);\n",
              "    animation:\n",
              "      spin 1s steps(1) infinite;\n",
              "  }\n",
              "\n",
              "  @keyframes spin {\n",
              "    0% {\n",
              "      border-color: transparent;\n",
              "      border-bottom-color: var(--fill-color);\n",
              "      border-left-color: var(--fill-color);\n",
              "    }\n",
              "    20% {\n",
              "      border-color: transparent;\n",
              "      border-left-color: var(--fill-color);\n",
              "      border-top-color: var(--fill-color);\n",
              "    }\n",
              "    30% {\n",
              "      border-color: transparent;\n",
              "      border-left-color: var(--fill-color);\n",
              "      border-top-color: var(--fill-color);\n",
              "      border-right-color: var(--fill-color);\n",
              "    }\n",
              "    40% {\n",
              "      border-color: transparent;\n",
              "      border-right-color: var(--fill-color);\n",
              "      border-top-color: var(--fill-color);\n",
              "    }\n",
              "    60% {\n",
              "      border-color: transparent;\n",
              "      border-right-color: var(--fill-color);\n",
              "    }\n",
              "    80% {\n",
              "      border-color: transparent;\n",
              "      border-right-color: var(--fill-color);\n",
              "      border-bottom-color: var(--fill-color);\n",
              "    }\n",
              "    90% {\n",
              "      border-color: transparent;\n",
              "      border-bottom-color: var(--fill-color);\n",
              "    }\n",
              "  }\n",
              "</style>\n",
              "\n",
              "  <script>\n",
              "    async function quickchart(key) {\n",
              "      const quickchartButtonEl =\n",
              "        document.querySelector('#' + key + ' button');\n",
              "      quickchartButtonEl.disabled = true;  // To prevent multiple clicks.\n",
              "      quickchartButtonEl.classList.add('colab-df-spinner');\n",
              "      try {\n",
              "        const charts = await google.colab.kernel.invokeFunction(\n",
              "            'suggestCharts', [key], {});\n",
              "      } catch (error) {\n",
              "        console.error('Error during call to suggestCharts:', error);\n",
              "      }\n",
              "      quickchartButtonEl.classList.remove('colab-df-spinner');\n",
              "      quickchartButtonEl.classList.add('colab-df-quickchart-complete');\n",
              "    }\n",
              "    (() => {\n",
              "      let quickchartButtonEl =\n",
              "        document.querySelector('#df-a294e783-c68f-465d-af40-aa08cd4fde7f button');\n",
              "      quickchartButtonEl.style.display =\n",
              "        google.colab.kernel.accessAllowed ? 'block' : 'none';\n",
              "    })();\n",
              "  </script>\n",
              "</div>\n",
              "    </div>\n",
              "  </div>\n"
            ]
          },
          "metadata": {},
          "execution_count": 276
        }
      ]
    },
    {
      "cell_type": "code",
      "source": [
        "hotels.to_csv('hotels.csv', header=True, index=False)"
      ],
      "metadata": {
        "id": "XDNQLm7NXxI5"
      },
      "execution_count": 277,
      "outputs": []
    },
    {
      "cell_type": "markdown",
      "source": [
        "Finding the top 5 hotels with the most reviews"
      ],
      "metadata": {
        "id": "3LCsBAeJ4yWm"
      }
    },
    {
      "cell_type": "code",
      "source": [
        "# Filter out hotels with 'No Review'\n",
        "filtered_hotels_data = [hotel for hotel in hotels_data if hotel['Review'] != 'No Review']\n",
        "\n",
        "# Convert review strings to numeric values\n",
        "numeric_reviews = []\n",
        "\n",
        "for hotel in filtered_hotels_data:\n",
        "    review_str = hotel['Review']\n",
        "    numeric_value = int(review_str.split()[0].replace(',', ''))\n",
        "    numeric_reviews.append(numeric_value)\n",
        "\n",
        "# Add the numeric review values to the filtered_hotels_data list\n",
        "for i, hotel in enumerate(filtered_hotels_data):\n",
        "    hotel['NumericReview'] = numeric_reviews[i]\n",
        "\n",
        "# Sort the hotels based on the numeric review values\n",
        "sorted_hotels = sorted(filtered_hotels_data, key=lambda hotel: hotel['NumericReview'], reverse=True)\n",
        "\n",
        "# Display the top 5 hotels with the most reviews\n",
        "top_n = 5\n",
        "top_hotels = sorted_hotels[:top_n]\n",
        "\n",
        "# Print the top hotels and their review counts\n",
        "print(f\"Top {top_n} Hotels by Number of Reviews:\")\n",
        "for i, hotel in enumerate(top_hotels, start=1):\n",
        "    print(f\"{i}. {hotel['Name']} - {hotel['Review']}\")"
      ],
      "metadata": {
        "colab": {
          "base_uri": "https://localhost:8080/"
        },
        "id": "cccpkGZawm3H",
        "outputId": "e8be1b42-7dc6-4da2-f627-efdadac8051c"
      },
      "execution_count": 278,
      "outputs": [
        {
          "output_type": "stream",
          "name": "stdout",
          "text": [
            "Top 5 Hotels by Number of Reviews:\n",
            "1. One King West Hotel and Residence - 11,058 reviews\n",
            "2. Chelsea Hotel Toronto - 6,417 reviews\n",
            "3. DoubleTree by Hilton Toronto Downtown - 5,162 reviews\n",
            "4. Town Inn Suites Hotel - 4,124 reviews\n",
            "5. The Clarence Park - 3,541 reviews\n"
          ]
        }
      ]
    },
    {
      "cell_type": "markdown",
      "source": [
        "Creating a histogram to visualize the distribution of hotel prices"
      ],
      "metadata": {
        "id": "df0cZ8vm5Q83"
      }
    },
    {
      "cell_type": "code",
      "source": [
        "# Extract prices from the data\n",
        "prices = [hotel['Price'] for hotel in hotels_data]\n",
        "\n",
        "# Function to convert a price string to a numeric value\n",
        "def extract_price_numeric(price_str):\n",
        "    # Remove currency symbols, commas, or any other non-numeric characters\n",
        "    price_cleaned = price_str.replace('US$', '').replace(',', '').strip()\n",
        "    try:\n",
        "        return float(price_cleaned)\n",
        "    except ValueError:\n",
        "        return None\n",
        "\n",
        "# Convert prices to numeric values\n",
        "numeric_prices = [extract_price_numeric(price) for price in prices]\n",
        "\n",
        "# Filter out None values (prices that couldn't be converted)\n",
        "numeric_prices = [price for price in numeric_prices if price is not None]\n",
        "\n",
        "# Calculate statistics\n",
        "average_price = np.mean(numeric_prices)\n",
        "min_price = min(numeric_prices)\n",
        "max_price = max(numeric_prices)\n",
        "total_hotels = len(numeric_prices)\n",
        "\n",
        "# Create a histogram of price distribution\n",
        "plt.figure(figsize=(8, 5))\n",
        "plt.hist(numeric_prices, bins=20, color='skyblue', edgecolor='black')\n",
        "plt.title('Hotel Price Distribution')\n",
        "plt.xlabel('Price Range')\n",
        "plt.ylabel('Number of Hotels')\n",
        "plt.grid(True)\n",
        "plt.show()\n",
        "\n",
        "# Display the results\n",
        "print(f\"Total Number of Hotels: {total_hotels}\")\n",
        "print(f\"Average Price: ${average_price:.2f}\")\n",
        "print(f\"Minimum Price: ${min_price:.2f}\")\n",
        "print(f\"Maximum Price: ${max_price:.2f}\")"
      ],
      "metadata": {
        "colab": {
          "base_uri": "https://localhost:8080/",
          "height": 558
        },
        "id": "IeJfxON_stVZ",
        "outputId": "2c4d29df-89db-4455-a957-423a8111c915"
      },
      "execution_count": 279,
      "outputs": [
        {
          "output_type": "display_data",
          "data": {
            "text/plain": [
              "<Figure size 800x500 with 1 Axes>"
            ],
            "image/png": "[encoded data removed]"
          },
          "metadata": {}
        },
        {
          "output_type": "stream",
          "name": "stdout",
          "text": [
            "Total Number of Hotels: 200\n",
            "Average Price: $201.03\n",
            "Minimum Price: $23.00\n",
            "Maximum Price: $789.00\n"
          ]
        }
      ]
    },
    {
      "cell_type": "markdown",
      "source": [
        "Creating a box plot to visualize the distribution of ratings. It calculates quartiles and the median, also the average, highest, and lowest ratings.\n"
      ],
      "metadata": {
        "id": "D_wdIv0P5gJM"
      }
    },
    {
      "cell_type": "code",
      "source": [
        "# Filter out hotels with 'No Rating'\n",
        "filtered_ratings = [float(hotel['Rating']) for hotel in filtered_hotels_data if hotel['Rating'] != 'No Rating']\n",
        "\n",
        "# Create a box plot\n",
        "plt.figure(figsize=(8, 5))\n",
        "box = plt.boxplot(filtered_ratings, vert=False, widths=0.6, patch_artist=True, boxprops=dict(facecolor='lightblue'))\n",
        "plt.title('Rating Distribution (Box Plot)')\n",
        "plt.xlabel('Rating (0-10)')\n",
        "plt.grid(True)\n",
        "\n",
        "# Display the box plot\n",
        "plt.show()\n",
        "\n",
        "# Calculate quartiles and median\n",
        "quartiles = np.percentile(filtered_ratings, [25, 50, 75])\n",
        "# Calculate average, max and min\n",
        "average_rating = round(sum(ratings) / len(ratings), 1)\n",
        "highest_rating = max(ratings)\n",
        "lowest_rating = min(filtered_ratings)\n",
        "\n",
        "# Print quartile and median values below the plot\n",
        "print(f'Q1 (25th Percentile): {quartiles[0]:.2f}')\n",
        "print(f'Median (50th Percentile): {quartiles[1]:.2f}')\n",
        "print(f'Q3 (75th Percentile): {quartiles[2]:.2f}')\n",
        "print(f\"Average Rating: {average_rating:.1f}\")\n",
        "print(f\"Highest Rating: {highest_rating}\")\n",
        "print(f\"Lowest Rating: {lowest_rating if lowest_rating != -1 else 'No Rating'}\")"
      ],
      "metadata": {
        "colab": {
          "base_uri": "https://localhost:8080/",
          "height": 594
        },
        "id": "OXteLqka022i",
        "outputId": "e2919ac4-afd7-4f8c-fa4d-5d0336dae0ba"
      },
      "execution_count": 280,
      "outputs": [
        {
          "output_type": "display_data",
          "data": {
            "text/plain": [
              "<Figure size 800x500 with 1 Axes>"
            ],
            "image/png": "[encoded data removed]"
          },
          "metadata": {}
        },
        {
          "output_type": "stream",
          "name": "stdout",
          "text": [
            "Q1 (25th Percentile): 7.00\n",
            "Median (50th Percentile): 8.05\n",
            "Q3 (75th Percentile): 8.62\n",
            "Average Rating: 6.8\n",
            "Highest Rating: 10.0\n",
            "Lowest Rating: 3.0\n"
          ]
        }
      ]
    }
  ]
}